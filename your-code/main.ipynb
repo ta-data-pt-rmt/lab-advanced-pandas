{
 "cells": [
  {
   "attachments": {},
   "cell_type": "markdown",
   "metadata": {},
   "source": [
    "# Before your start:\n",
    "- Read the README.md file\n",
    "- Comment as much as you can and use the resources (README.md file)\n",
    "- Happy learning!"
   ]
  },
  {
   "cell_type": "code",
   "execution_count": null,
   "metadata": {},
   "outputs": [],
   "source": [
    "# Libraries"
   ]
  },
  {
   "attachments": {},
   "cell_type": "markdown",
   "metadata": {},
   "source": [
    "# Challenge 1 - Index Functions\n",
    "\n",
    "In this challenge, we will practice the advanced functions introduced in the lesson. However, before we start, we will load and evaluate our dataset. \n",
    "\n",
    "Load the dataset from Ironhack's database:\n",
    "* db: `admissions predict`\n",
    "* table: `admissions predict`"
   ]
  },
  {
   "cell_type": "code",
   "execution_count": 32,
   "metadata": {},
   "outputs": [],
   "source": [
    "import pandas as pd\n",
    "\n",
    "file_path = r'C:\\\\Users\\\\David Santos\\\\Desktop\\\\Labs IronHack\\\\Semi-Prontos\\\\7 - lab-advanced-pandas\\\\your-code\\\\data\\\\Admission_Predict.csv'\n",
    "db = pd.read_csv(file_path)"
   ]
  },
  {
   "attachments": {},
   "cell_type": "markdown",
   "metadata": {},
   "source": [
    "Remove trailing spaces at the end of the column names if there are any.\n"
   ]
  },
  {
   "cell_type": "code",
   "execution_count": 33,
   "metadata": {},
   "outputs": [
    {
     "data": {
      "text/html": [
       "<div>\n",
       "<style scoped>\n",
       "    .dataframe tbody tr th:only-of-type {\n",
       "        vertical-align: middle;\n",
       "    }\n",
       "\n",
       "    .dataframe tbody tr th {\n",
       "        vertical-align: top;\n",
       "    }\n",
       "\n",
       "    .dataframe thead th {\n",
       "        text-align: right;\n",
       "    }\n",
       "</style>\n",
       "<table border=\"1\" class=\"dataframe\">\n",
       "  <thead>\n",
       "    <tr style=\"text-align: right;\">\n",
       "      <th></th>\n",
       "      <th>Serial No.</th>\n",
       "      <th>GRE Score</th>\n",
       "      <th>TOEFL Score</th>\n",
       "      <th>University Rating</th>\n",
       "      <th>SOP</th>\n",
       "      <th>LOR</th>\n",
       "      <th>CGPA</th>\n",
       "      <th>Research</th>\n",
       "      <th>Chance of Admit</th>\n",
       "    </tr>\n",
       "  </thead>\n",
       "  <tbody>\n",
       "    <tr>\n",
       "      <th>0</th>\n",
       "      <td>1</td>\n",
       "      <td>337</td>\n",
       "      <td>118</td>\n",
       "      <td>4</td>\n",
       "      <td>4.5</td>\n",
       "      <td>4.5</td>\n",
       "      <td>9.65</td>\n",
       "      <td>1</td>\n",
       "      <td>0.92</td>\n",
       "    </tr>\n",
       "    <tr>\n",
       "      <th>1</th>\n",
       "      <td>2</td>\n",
       "      <td>316</td>\n",
       "      <td>104</td>\n",
       "      <td>3</td>\n",
       "      <td>3.0</td>\n",
       "      <td>3.5</td>\n",
       "      <td>8.00</td>\n",
       "      <td>1</td>\n",
       "      <td>0.72</td>\n",
       "    </tr>\n",
       "    <tr>\n",
       "      <th>2</th>\n",
       "      <td>3</td>\n",
       "      <td>322</td>\n",
       "      <td>110</td>\n",
       "      <td>3</td>\n",
       "      <td>3.5</td>\n",
       "      <td>2.5</td>\n",
       "      <td>8.67</td>\n",
       "      <td>1</td>\n",
       "      <td>0.80</td>\n",
       "    </tr>\n",
       "    <tr>\n",
       "      <th>3</th>\n",
       "      <td>4</td>\n",
       "      <td>314</td>\n",
       "      <td>103</td>\n",
       "      <td>2</td>\n",
       "      <td>2.0</td>\n",
       "      <td>3.0</td>\n",
       "      <td>8.21</td>\n",
       "      <td>0</td>\n",
       "      <td>0.65</td>\n",
       "    </tr>\n",
       "    <tr>\n",
       "      <th>4</th>\n",
       "      <td>5</td>\n",
       "      <td>330</td>\n",
       "      <td>115</td>\n",
       "      <td>5</td>\n",
       "      <td>4.5</td>\n",
       "      <td>3.0</td>\n",
       "      <td>9.34</td>\n",
       "      <td>1</td>\n",
       "      <td>0.90</td>\n",
       "    </tr>\n",
       "  </tbody>\n",
       "</table>\n",
       "</div>"
      ],
      "text/plain": [
       "   Serial No.  GRE Score  TOEFL Score  University Rating  SOP  LOR  CGPA  \\\n",
       "0           1        337          118                  4  4.5  4.5  9.65   \n",
       "1           2        316          104                  3  3.0  3.5  8.00   \n",
       "2           3        322          110                  3  3.5  2.5  8.67   \n",
       "3           4        314          103                  2  2.0  3.0  8.21   \n",
       "4           5        330          115                  5  4.5  3.0  9.34   \n",
       "\n",
       "   Research  Chance of Admit  \n",
       "0         1             0.92  \n",
       "1         1             0.72  \n",
       "2         1             0.80  \n",
       "3         0             0.65  \n",
       "4         1             0.90  "
      ]
     },
     "execution_count": 33,
     "metadata": {},
     "output_type": "execute_result"
    }
   ],
   "source": [
    "db.columns  = db.columns.str.strip()\n",
    "\n",
    "db.head()"
   ]
  },
  {
   "attachments": {},
   "cell_type": "markdown",
   "metadata": {},
   "source": [
    "Let's evaluate the dataset by looking at the `head` function."
   ]
  },
  {
   "cell_type": "code",
   "execution_count": 34,
   "metadata": {},
   "outputs": [
    {
     "data": {
      "text/html": [
       "<div>\n",
       "<style scoped>\n",
       "    .dataframe tbody tr th:only-of-type {\n",
       "        vertical-align: middle;\n",
       "    }\n",
       "\n",
       "    .dataframe tbody tr th {\n",
       "        vertical-align: top;\n",
       "    }\n",
       "\n",
       "    .dataframe thead th {\n",
       "        text-align: right;\n",
       "    }\n",
       "</style>\n",
       "<table border=\"1\" class=\"dataframe\">\n",
       "  <thead>\n",
       "    <tr style=\"text-align: right;\">\n",
       "      <th></th>\n",
       "      <th>Serial No.</th>\n",
       "      <th>GRE Score</th>\n",
       "      <th>TOEFL Score</th>\n",
       "      <th>University Rating</th>\n",
       "      <th>SOP</th>\n",
       "      <th>LOR</th>\n",
       "      <th>CGPA</th>\n",
       "      <th>Research</th>\n",
       "      <th>Chance of Admit</th>\n",
       "    </tr>\n",
       "  </thead>\n",
       "  <tbody>\n",
       "    <tr>\n",
       "      <th>0</th>\n",
       "      <td>1</td>\n",
       "      <td>337</td>\n",
       "      <td>118</td>\n",
       "      <td>4</td>\n",
       "      <td>4.5</td>\n",
       "      <td>4.5</td>\n",
       "      <td>9.65</td>\n",
       "      <td>1</td>\n",
       "      <td>0.92</td>\n",
       "    </tr>\n",
       "    <tr>\n",
       "      <th>1</th>\n",
       "      <td>2</td>\n",
       "      <td>316</td>\n",
       "      <td>104</td>\n",
       "      <td>3</td>\n",
       "      <td>3.0</td>\n",
       "      <td>3.5</td>\n",
       "      <td>8.00</td>\n",
       "      <td>1</td>\n",
       "      <td>0.72</td>\n",
       "    </tr>\n",
       "    <tr>\n",
       "      <th>2</th>\n",
       "      <td>3</td>\n",
       "      <td>322</td>\n",
       "      <td>110</td>\n",
       "      <td>3</td>\n",
       "      <td>3.5</td>\n",
       "      <td>2.5</td>\n",
       "      <td>8.67</td>\n",
       "      <td>1</td>\n",
       "      <td>0.80</td>\n",
       "    </tr>\n",
       "    <tr>\n",
       "      <th>3</th>\n",
       "      <td>4</td>\n",
       "      <td>314</td>\n",
       "      <td>103</td>\n",
       "      <td>2</td>\n",
       "      <td>2.0</td>\n",
       "      <td>3.0</td>\n",
       "      <td>8.21</td>\n",
       "      <td>0</td>\n",
       "      <td>0.65</td>\n",
       "    </tr>\n",
       "    <tr>\n",
       "      <th>4</th>\n",
       "      <td>5</td>\n",
       "      <td>330</td>\n",
       "      <td>115</td>\n",
       "      <td>5</td>\n",
       "      <td>4.5</td>\n",
       "      <td>3.0</td>\n",
       "      <td>9.34</td>\n",
       "      <td>1</td>\n",
       "      <td>0.90</td>\n",
       "    </tr>\n",
       "  </tbody>\n",
       "</table>\n",
       "</div>"
      ],
      "text/plain": [
       "   Serial No.  GRE Score  TOEFL Score  University Rating  SOP  LOR  CGPA  \\\n",
       "0           1        337          118                  4  4.5  4.5  9.65   \n",
       "1           2        316          104                  3  3.0  3.5  8.00   \n",
       "2           3        322          110                  3  3.5  2.5  8.67   \n",
       "3           4        314          103                  2  2.0  3.0  8.21   \n",
       "4           5        330          115                  5  4.5  3.0  9.34   \n",
       "\n",
       "   Research  Chance of Admit  \n",
       "0         1             0.92  \n",
       "1         1             0.72  \n",
       "2         1             0.80  \n",
       "3         0             0.65  \n",
       "4         1             0.90  "
      ]
     },
     "execution_count": 34,
     "metadata": {},
     "output_type": "execute_result"
    }
   ],
   "source": [
    "db.head()"
   ]
  },
  {
   "attachments": {},
   "cell_type": "markdown",
   "metadata": {},
   "source": [
    "Before beginning to work with this dataset and evaluating graduate admissions data, we will verify that there is no missing data in the dataset. Do this in the cell below."
   ]
  },
  {
   "cell_type": "code",
   "execution_count": 35,
   "metadata": {},
   "outputs": [
    {
     "name": "stdout",
     "output_type": "stream",
     "text": [
      "Serial No.           0\n",
      "GRE Score            0\n",
      "TOEFL Score          0\n",
      "University Rating    0\n",
      "SOP                  0\n",
      "LOR                  0\n",
      "CGPA                 0\n",
      "Research             0\n",
      "Chance of Admit      0\n",
      "dtype: int64\n"
     ]
    }
   ],
   "source": [
    "missing_data = db.isnull().sum() \n",
    "\n",
    "print (missing_data)"
   ]
  },
  {
   "attachments": {},
   "cell_type": "markdown",
   "metadata": {},
   "source": [
    "Interestingly, there is a column that uniquely identifies the applicants. This column is the serial number column. Instead of having our own index, we should make this column our index. Do this in the cell below. Keep the column in the dataframe in addition to making it an index."
   ]
  },
  {
   "cell_type": "code",
   "execution_count": 36,
   "metadata": {},
   "outputs": [
    {
     "name": "stdout",
     "output_type": "stream",
     "text": [
      "            GRE Score  TOEFL Score  University Rating  SOP  LOR  CGPA  \\\n",
      "Serial No.                                                              \n",
      "1                 337          118                  4  4.5  4.5  9.65   \n",
      "2                 316          104                  3  3.0  3.5  8.00   \n",
      "3                 322          110                  3  3.5  2.5  8.67   \n",
      "4                 314          103                  2  2.0  3.0  8.21   \n",
      "5                 330          115                  5  4.5  3.0  9.34   \n",
      "...               ...          ...                ...  ...  ...   ...   \n",
      "381               324          110                  3  3.5  3.5  9.04   \n",
      "382               325          107                  3  3.0  3.5  9.11   \n",
      "383               330          116                  4  5.0  4.5  9.45   \n",
      "384               312          103                  3  3.5  4.0  8.78   \n",
      "385               333          117                  4  5.0  4.0  9.66   \n",
      "\n",
      "            Research  Chance of Admit  \n",
      "Serial No.                             \n",
      "1                  1             0.92  \n",
      "2                  1             0.72  \n",
      "3                  1             0.80  \n",
      "4                  0             0.65  \n",
      "5                  1             0.90  \n",
      "...              ...              ...  \n",
      "381                1             0.82  \n",
      "382                1             0.84  \n",
      "383                1             0.91  \n",
      "384                0             0.67  \n",
      "385                1             0.95  \n",
      "\n",
      "[385 rows x 8 columns]\n"
     ]
    }
   ],
   "source": [
    "db = db.set_index(\"Serial No.\")\n",
    "print(db) "
   ]
  },
  {
   "attachments": {},
   "cell_type": "markdown",
   "metadata": {},
   "source": [
    "Turns out that `GRE Score` and `CGPA` also uniquely identify the data. Show this in the cell below."
   ]
  },
  {
   "cell_type": "code",
   "execution_count": 37,
   "metadata": {},
   "outputs": [
    {
     "name": "stdout",
     "output_type": "stream",
     "text": [
      "                TOEFL Score  University Rating  SOP  LOR  Research  \\\n",
      "GRE Score CGPA                                                       \n",
      "337       9.65          118                  4  4.5  4.5         1   \n",
      "316       8.00          104                  3  3.0  3.5         1   \n",
      "322       8.67          110                  3  3.5  2.5         1   \n",
      "314       8.21          103                  2  2.0  3.0         0   \n",
      "330       9.34          115                  5  4.5  3.0         1   \n",
      "...                     ...                ...  ...  ...       ...   \n",
      "324       9.04          110                  3  3.5  3.5         1   \n",
      "325       9.11          107                  3  3.0  3.5         1   \n",
      "330       9.45          116                  4  5.0  4.5         1   \n",
      "312       8.78          103                  3  3.5  4.0         0   \n",
      "333       9.66          117                  4  5.0  4.0         1   \n",
      "\n",
      "                Chance of Admit  \n",
      "GRE Score CGPA                   \n",
      "337       9.65             0.92  \n",
      "316       8.00             0.72  \n",
      "322       8.67             0.80  \n",
      "314       8.21             0.65  \n",
      "330       9.34             0.90  \n",
      "...                         ...  \n",
      "324       9.04             0.82  \n",
      "325       9.11             0.84  \n",
      "330       9.45             0.91  \n",
      "312       8.78             0.67  \n",
      "333       9.66             0.95  \n",
      "\n",
      "[385 rows x 6 columns]\n"
     ]
    }
   ],
   "source": [
    "db_with_index = db.set_index([\"GRE Score\", \"CGPA\"])\n",
    "print(db_with_index)"
   ]
  },
  {
   "attachments": {},
   "cell_type": "markdown",
   "metadata": {},
   "source": [
    "Replace the index with an index comprised of two columns - `GRE Score` and `CGPA`. Remove the columns from the dataset as well. Make sure to use `inplace=True`."
   ]
  },
  {
   "attachments": {},
   "cell_type": "markdown",
   "metadata": {},
   "source": [
    "Now change the index back to a sequence starting at zero using the `reset_index` function. Make sure to use `inplace=True`."
   ]
  },
  {
   "cell_type": "code",
   "execution_count": 38,
   "metadata": {},
   "outputs": [
    {
     "name": "stdout",
     "output_type": "stream",
     "text": [
      "Index(['GRE Score', 'TOEFL Score', 'University Rating', 'SOP', 'LOR', 'CGPA',\n",
      "       'Research', 'Chance of Admit'],\n",
      "      dtype='object')\n"
     ]
    }
   ],
   "source": [
    "print(db.columns)"
   ]
  },
  {
   "cell_type": "code",
   "execution_count": 39,
   "metadata": {},
   "outputs": [],
   "source": [
    "db.set_index([\"GRE Score\", \"CGPA\"], inplace = True)\n"
   ]
  },
  {
   "cell_type": "code",
   "execution_count": 40,
   "metadata": {},
   "outputs": [],
   "source": [
    "db.reset_index(inplace=True, drop=True)\n"
   ]
  },
  {
   "attachments": {},
   "cell_type": "markdown",
   "metadata": {},
   "source": [
    "# Challenge 2 - Advanced Functions\n",
    "\n",
    "In this part of the lab, we would like to test complex conditions on the entire dataset at once. Let's start by finding the number of rows where the CGPA is higher than 9 and the student has conducted research."
   ]
  },
  {
   "cell_type": "code",
   "execution_count": 51,
   "metadata": {},
   "outputs": [
    {
     "data": {
      "text/plain": [
       "Index(['Serial No.', 'GRE Score', 'TOEFL Score', 'University Rating', 'SOP',\n",
       "       'LOR ', 'CGPA', 'Research', 'Chance of Admit '],\n",
       "      dtype='object')"
      ]
     },
     "execution_count": 51,
     "metadata": {},
     "output_type": "execute_result"
    }
   ],
   "source": [
    "file_path2 = r'C:\\\\Users\\\\David Santos\\\\Desktop\\\\Labs IronHack\\\\Semi-Prontos\\\\7 - lab-advanced-pandas\\\\your-code\\\\data\\\\Admission_Predict.csv'\n",
    "db2 = pd.read_csv(file_path2)\n",
    "\n",
    "\n",
    "db2.columns"
   ]
  },
  {
   "cell_type": "code",
   "execution_count": 53,
   "metadata": {},
   "outputs": [
    {
     "name": "stdout",
     "output_type": "stream",
     "text": [
      "Number of rows where CGPA > 9 and Research = 1: 101\n"
     ]
    }
   ],
   "source": [
    "filtered_rows = db2[(db2['CGPA'] > 9) & (db2['Research'] == 1)]\n",
    "num_rows = len(filtered_rows)\n",
    "print(\"Number of rows where CGPA > 9 and Research = 1:\", num_rows)"
   ]
  },
  {
   "attachments": {},
   "cell_type": "markdown",
   "metadata": {},
   "source": [
    "Now return all the rows where the CGPA is greater than 9 and the SOP score is less than 3.5. Find the mean chance of admit for these applicants."
   ]
  },
  {
   "cell_type": "code",
   "execution_count": 55,
   "metadata": {},
   "outputs": [
    {
     "name": "stdout",
     "output_type": "stream",
     "text": [
      "Mean 'Chanve of Admit' for selected aapplicants:  0.8019999999999999\n"
     ]
    }
   ],
   "source": [
    "filtered_rows2 = db2[(db2['CGPA'] > 9) & (db2['SOP'] < 3.5 )]\n",
    "\n",
    "mean_chance = filtered_rows2['Chance of Admit '].mean() \n",
    "\n",
    "print(\"Mean 'Chanve of Admit' for selected aapplicants: \", mean_chance)"
   ]
  },
  {
   "attachments": {},
   "cell_type": "markdown",
   "metadata": {},
   "source": [
    "We would like to create a deciding factor column for each student. We standardize several columns and then pick the most important factor from a lookup table. If the standardized value is above 0.8, the student will be accepted.\n",
    "\n",
    "We will start by creating a standardized column for `CGPA`, `GRE Score` and `LOR`. We will name these columns `CGPA_std`, `GRE_std`, and `LOR_std` respecively.\n",
    "\n",
    "Recall that standardizing a column is done by subtracting the mean of the column from all observations in the column and then dividing each observation in the column by the column's standard deviation.\n",
    "\n",
    "In the cell below, write a standardization function (a function that takes a column as input and returns a standardized column as output). Make sure to use the `numpy` versions of mean and standard deviation."
   ]
  },
  {
   "cell_type": "code",
   "execution_count": 69,
   "metadata": {},
   "outputs": [],
   "source": [
    "import numpy as np\n",
    "\n",
    "def standardize(col):\n",
    "    \"\"\"\n",
    "    This function takes a column from a dataframe \n",
    "    and returns a standardized column by subtracting the column's mean\n",
    "    and dividing by the column's standard deviation.\n",
    "    \"\"\"\n",
    "    \n",
    "    mean = np.mean(col)\n",
    "    std_dev = np.std(col)\n",
    "\n",
    "    standardized_col = (col-mean) / std_dev\n",
    "\n",
    "    return standardized_col"
   ]
  },
  {
   "attachments": {},
   "cell_type": "markdown",
   "metadata": {},
   "source": [
    "Now create the standardized columns `CGPA_std`, `GRE_std`, and `LOR_std` and add them to the `admissions` dataframe."
   ]
  },
  {
   "cell_type": "code",
   "execution_count": 75,
   "metadata": {},
   "outputs": [],
   "source": [
    "db2['CGPA_std'] = standardize(db2['CGPA'])\n",
    "db2['GRE_std'] = standardize(db2['GRE Score'])\n",
    "db2['LOR_std'] = standardize(db2['LOR '])"
   ]
  },
  {
   "attachments": {},
   "cell_type": "markdown",
   "metadata": {},
   "source": [
    "We will generate the decision choice at random using the code below. Please run the cell."
   ]
  },
  {
   "cell_type": "code",
   "execution_count": 76,
   "metadata": {},
   "outputs": [],
   "source": [
    "# Libraries\n",
    "from random import choices"
   ]
  },
  {
   "cell_type": "code",
   "execution_count": 77,
   "metadata": {},
   "outputs": [],
   "source": [
    "std_columns = ['CGPA_std', 'GRE_std', 'LOR_std']\n",
    "\n",
    "decision_choice = choices(std_columns, k=db2.shape[0])"
   ]
  },
  {
   "attachments": {},
   "cell_type": "markdown",
   "metadata": {},
   "source": [
    "Now create the deciding column using the `lookup` function. The lookup column is `decision_choice` found above. Call the column resulting from the lookup function `deciding_column` and add it to the `admissions` dataframe."
   ]
  },
  {
   "cell_type": "code",
   "execution_count": 81,
   "metadata": {},
   "outputs": [
    {
     "name": "stdout",
     "output_type": "stream",
     "text": [
      "     Serial No.  GRE Score  TOEFL Score  University Rating  SOP  LOR   CGPA  \\\n",
      "0             1        337          118                  4  4.5   4.5  9.65   \n",
      "1             2        316          104                  3  3.0   3.5  8.00   \n",
      "2             3        322          110                  3  3.5   2.5  8.67   \n",
      "3             4        314          103                  2  2.0   3.0  8.21   \n",
      "4             5        330          115                  5  4.5   3.0  9.34   \n",
      "..          ...        ...          ...                ...  ...   ...   ...   \n",
      "380         381        324          110                  3  3.5   3.5  9.04   \n",
      "381         382        325          107                  3  3.0   3.5  9.11   \n",
      "382         383        330          116                  4  5.0   4.5  9.45   \n",
      "383         384        312          103                  3  3.5   4.0  8.78   \n",
      "384         385        333          117                  4  5.0   4.0  9.66   \n",
      "\n",
      "     Research  Chance of Admit   CGPA_std   GRE_std   LOR_std Decision_choise  \\\n",
      "0           1              0.92  1.750174  1.755663  1.193197         LOR_std   \n",
      "1           1              0.72 -0.992501 -0.063450  0.076840         GRE_std   \n",
      "2           1              0.80  0.121191  0.456297 -1.039517         GRE_std   \n",
      "3           0              0.65 -0.643433 -0.236698 -0.481338        CGPA_std   \n",
      "4           1              0.90  1.234884  1.149292 -0.481338         LOR_std   \n",
      "..        ...               ...       ...       ...       ...             ...   \n",
      "380         1              0.82  0.736216  0.629546  0.076840         GRE_std   \n",
      "381         1              0.84  0.852571  0.716170  0.076840        CGPA_std   \n",
      "382         1              0.91  1.417729  1.149292  1.193197         LOR_std   \n",
      "383         0              0.67  0.304036 -0.409947  0.635019         LOR_std   \n",
      "384         1              0.95  1.766796  1.409165  0.635019         GRE_std   \n",
      "\n",
      "    Decision_Choice Deciding_Column  \n",
      "0          CGPA_std        Accepted  \n",
      "1           GRE_std    Not accepted  \n",
      "2          CGPA_std    Not accepted  \n",
      "3          CGPA_std    Not accepted  \n",
      "4           LOR_std    Not accepted  \n",
      "..              ...             ...  \n",
      "380        CGPA_std    Not accepted  \n",
      "381         GRE_std    Not accepted  \n",
      "382        CGPA_std        Accepted  \n",
      "383         GRE_std    Not accepted  \n",
      "384        CGPA_std        Accepted  \n",
      "\n",
      "[385 rows x 15 columns]\n"
     ]
    }
   ],
   "source": [
    "std_columns = ['CGPA_std', 'GRE_std', 'LOR_std']\n",
    "decision_choice = choices(std_columns, k=db2.shape[0])\n",
    "\n",
    "\n",
    "db2['Decision_Choice'] = decision_choice\n",
    "\n",
    "\n",
    "def lookup_function(value):\n",
    "    if value > 0.8:\n",
    "        return \"Accepted\"\n",
    "    else: \n",
    "        return \"Not accepted\"\n",
    "    \n",
    "\n",
    "db2['Deciding_Column'] = db2.apply(lambda row: lookup_function(row[row['Decision_Choice']]), axis=1)\n",
    "\n",
    "print(db2)\n"
   ]
  },
  {
   "attachments": {},
   "cell_type": "markdown",
   "metadata": {},
   "source": [
    "Create a column called `decision` in the `admissions` dataframe. Assign 1 to this column if the value of `deciding_column` is greater than 0.8 and 0 otherwise."
   ]
  },
  {
   "cell_type": "code",
   "execution_count": 83,
   "metadata": {},
   "outputs": [
    {
     "name": "stdout",
     "output_type": "stream",
     "text": [
      "     Serial No.  GRE Score  TOEFL Score  University Rating  SOP  LOR   CGPA  \\\n",
      "0             1        337          118                  4  4.5   4.5  9.65   \n",
      "1             2        316          104                  3  3.0   3.5  8.00   \n",
      "2             3        322          110                  3  3.5   2.5  8.67   \n",
      "3             4        314          103                  2  2.0   3.0  8.21   \n",
      "4             5        330          115                  5  4.5   3.0  9.34   \n",
      "..          ...        ...          ...                ...  ...   ...   ...   \n",
      "380         381        324          110                  3  3.5   3.5  9.04   \n",
      "381         382        325          107                  3  3.0   3.5  9.11   \n",
      "382         383        330          116                  4  5.0   4.5  9.45   \n",
      "383         384        312          103                  3  3.5   4.0  8.78   \n",
      "384         385        333          117                  4  5.0   4.0  9.66   \n",
      "\n",
      "     Research  Chance of Admit   CGPA_std   GRE_std   LOR_std Decision_choise  \\\n",
      "0           1              0.92  1.750174  1.755663  1.193197         LOR_std   \n",
      "1           1              0.72 -0.992501 -0.063450  0.076840         GRE_std   \n",
      "2           1              0.80  0.121191  0.456297 -1.039517         GRE_std   \n",
      "3           0              0.65 -0.643433 -0.236698 -0.481338        CGPA_std   \n",
      "4           1              0.90  1.234884  1.149292 -0.481338         LOR_std   \n",
      "..        ...               ...       ...       ...       ...             ...   \n",
      "380         1              0.82  0.736216  0.629546  0.076840         GRE_std   \n",
      "381         1              0.84  0.852571  0.716170  0.076840        CGPA_std   \n",
      "382         1              0.91  1.417729  1.149292  1.193197         LOR_std   \n",
      "383         0              0.67  0.304036 -0.409947  0.635019         LOR_std   \n",
      "384         1              0.95  1.766796  1.409165  0.635019         GRE_std   \n",
      "\n",
      "    Decision_Choice Deciding_Column  Decision  \n",
      "0           GRE_std        Accepted         1  \n",
      "1           GRE_std    Not accepted         0  \n",
      "2           LOR_std    Not accepted         0  \n",
      "3           GRE_std    Not accepted         0  \n",
      "4           GRE_std        Accepted         1  \n",
      "..              ...             ...       ...  \n",
      "380         GRE_std    Not accepted         0  \n",
      "381         LOR_std    Not accepted         0  \n",
      "382         GRE_std        Accepted         1  \n",
      "383         LOR_std    Not accepted         0  \n",
      "384        CGPA_std        Accepted         1  \n",
      "\n",
      "[385 rows x 16 columns]\n"
     ]
    }
   ],
   "source": [
    "std_columns = ['CGPA_std', 'GRE_std', 'LOR_std']\n",
    "decision_choice = choices(std_columns, k=db2.shape[0])\n",
    "\n",
    "\n",
    "db2['Decision_Choice'] = decision_choice\n",
    "\n",
    "\n",
    "def lookup_function(value):\n",
    "    if value > 0.8:\n",
    "        return \"Accepted\"\n",
    "    else: \n",
    "        return \"Not accepted\"\n",
    "    \n",
    "\n",
    "db2['Deciding_Column'] = db2.apply(lambda row: lookup_function(row[row['Decision_Choice']]), axis=1)\n",
    "\n",
    "db2['Decision'] = np.where(db2['Deciding_Column'] == 'Accepted', 1, 0)\n",
    "\n",
    "print(db2)"
   ]
  },
  {
   "attachments": {},
   "cell_type": "markdown",
   "metadata": {},
   "source": [
    "How many applicants will be accepted to the program using the decision column? Compute the result below."
   ]
  },
  {
   "cell_type": "code",
   "execution_count": 85,
   "metadata": {},
   "outputs": [
    {
     "name": "stdout",
     "output_type": "stream",
     "text": [
      "Number of applicants accepted:  89\n"
     ]
    }
   ],
   "source": [
    "num_accepted = db2['Decision'].sum() \n",
    "\n",
    "print(\"Number of applicants accepted: \", num_accepted)"
   ]
  },
  {
   "attachments": {},
   "cell_type": "markdown",
   "metadata": {},
   "source": [
    "# Challenge 3 - Method Chaining\n",
    "\n",
    "To increase our coding efficiency, let's make a number of changes to our dataframe in one line of code.\n",
    "\n",
    "In the cell below, remove all non character symbols from the column names, replace all spaces in column names to underscores, and change all upper case characters to lower case. Assign these new column values to `admissions.columns`."
   ]
  },
  {
   "cell_type": "code",
   "execution_count": 86,
   "metadata": {},
   "outputs": [
    {
     "data": {
      "text/plain": [
       "Index(['Serial No.', 'GRE Score', 'TOEFL Score', 'University Rating', 'SOP',\n",
       "       'LOR ', 'CGPA', 'Research', 'Chance of Admit '],\n",
       "      dtype='object')"
      ]
     },
     "execution_count": 86,
     "metadata": {},
     "output_type": "execute_result"
    }
   ],
   "source": [
    "file_path3 = r'C:\\\\Users\\\\David Santos\\\\Desktop\\\\Labs IronHack\\\\Semi-Prontos\\\\7 - lab-advanced-pandas\\\\your-code\\\\data\\\\Admission_Predict.csv'\n",
    "db3 = pd.read_csv(file_path2)\n",
    "\n",
    "\n",
    "db3.columns"
   ]
  },
  {
   "cell_type": "code",
   "execution_count": 87,
   "metadata": {},
   "outputs": [],
   "source": [
    "db3.columns = db3.columns.str.replace('[^a-zA-Z]', '', regex=True).str.replace(' ', '_').str.lower()"
   ]
  },
  {
   "cell_type": "code",
   "execution_count": 88,
   "metadata": {},
   "outputs": [
    {
     "data": {
      "text/plain": [
       "Index(['serialno', 'grescore', 'toeflscore', 'universityrating', 'sop', 'lor',\n",
       "       'cgpa', 'research', 'chanceofadmit'],\n",
       "      dtype='object')"
      ]
     },
     "execution_count": 88,
     "metadata": {},
     "output_type": "execute_result"
    }
   ],
   "source": [
    "db3.columns"
   ]
  },
  {
   "attachments": {},
   "cell_type": "markdown",
   "metadata": {},
   "source": [
    "In the cell below, give all student with a university rating of 4 or higher a 10 point boost on their GRE score and split the column into 4 bins using the `cut` function. Assign this new score to the variable `adjusted_gre`."
   ]
  },
  {
   "cell_type": "code",
   "execution_count": 95,
   "metadata": {},
   "outputs": [
    {
     "name": "stdout",
     "output_type": "stream",
     "text": [
      "     serialno  grescore  toeflscore  universityrating  sop  lor  cgpa  \\\n",
      "0           1       337         118                 4  4.5  4.5  9.65   \n",
      "1           2       316         104                 3  3.0  3.5  8.00   \n",
      "2           3       322         110                 3  3.5  2.5  8.67   \n",
      "3           4       314         103                 2  2.0  3.0  8.21   \n",
      "4           5       330         115                 5  4.5  3.0  9.34   \n",
      "..        ...       ...         ...               ...  ...  ...   ...   \n",
      "380       381       324         110                 3  3.5  3.5  9.04   \n",
      "381       382       325         107                 3  3.0  3.5  9.11   \n",
      "382       383       330         116                 4  5.0  4.5  9.45   \n",
      "383       384       312         103                 3  3.5  4.0  8.78   \n",
      "384       385       333         117                 4  5.0  4.0  9.66   \n",
      "\n",
      "     research  chanceofadmit adjusted_gre  \n",
      "0           1           0.92    Very High  \n",
      "1           1           0.72         High  \n",
      "2           1           0.80    Very High  \n",
      "3           0           0.65         High  \n",
      "4           1           0.90    Very High  \n",
      "..        ...            ...          ...  \n",
      "380         1           0.82    Very High  \n",
      "381         1           0.84    Very High  \n",
      "382         1           0.91    Very High  \n",
      "383         0           0.67         High  \n",
      "384         1           0.95    Very High  \n",
      "\n",
      "[385 rows x 10 columns]\n"
     ]
    }
   ],
   "source": [
    "db3['adjusted_gre'] = db3.apply(\n",
    "    lambda row: row['grescore'] + 10 if row['universityrating'] >= 4 else row['grescore'],\n",
    "    axis=1)\n",
    "\n",
    "\n",
    "bins = [0, 150, 300, 320, db3['adjusted_gre'].max()]\n",
    "labels = ['Low', 'Moderate', 'High', 'Very High']\n",
    "db3['adjusted_gre'] = pd.cut(db3['adjusted_gre'], bins=bins, labels=labels)\n",
    "\n",
    "print(db3)\n"
   ]
  }
 ],
 "metadata": {
  "kernelspec": {
   "display_name": "Python 3",
   "language": "python",
   "name": "python3"
  },
  "language_info": {
   "codemirror_mode": {
    "name": "ipython",
    "version": 3
   },
   "file_extension": ".py",
   "mimetype": "text/x-python",
   "name": "python",
   "nbconvert_exporter": "python",
   "pygments_lexer": "ipython3",
   "version": "3.10.9"
  }
 },
 "nbformat": 4,
 "nbformat_minor": 2
}
